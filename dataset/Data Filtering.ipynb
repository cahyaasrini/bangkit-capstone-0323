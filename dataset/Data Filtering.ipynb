{
 "cells": [
  {
   "cell_type": "markdown",
   "metadata": {},
   "source": [
    "# Data Filtering"
   ]
  },
  {
   "cell_type": "markdown",
   "metadata": {},
   "source": [
    "### There are [10 json files of Human Drug Label dataset](https://open.fda.gov/data/downloads/) from [openFDA](https://open.fda.gov/). For our project, we want to take only those records that are [Human OTC Drug](https://www.fda.gov/drugs/buying-using-medicine-safely/understanding-over-counter-medicines#:~:text=Over%2Dthe%2Dcounter%20medicine%20is,by%20your%20health%20care%20professional.) type of product.s \n",
    "\n",
    "### To do that, we download those files and iterate to open each file. We finally combine the result from each file into a (big) json file consist of 65670 *Human OTC Drug Label Raw Dataset*. \n",
    "\n",
    "\n",
    "### The result is stored [here](https://drive.google.com/drive/folders/1NuOK6hWEDek11kFARszu9K9O8icySx_I?usp=sharing). "
   ]
  },
  {
   "cell_type": "code",
   "execution_count": 1,
   "metadata": {},
   "outputs": [],
   "source": [
    "import json"
   ]
  },
  {
   "cell_type": "code",
   "execution_count": 2,
   "metadata": {},
   "outputs": [],
   "source": [
    "def filtering(data): \n",
    "    count = 0 \n",
    "    filtered = {} \n",
    "    for i in range(len(data)): \n",
    "        try: \n",
    "            if len(data[i]['openfda']) != 0:\n",
    "                if data[i]['openfda']['product_type'] == ['HUMAN OTC DRUG']: \n",
    "                    count += 1\n",
    "                    filtered[count] = data[i]\n",
    "        except:\n",
    "            pass \n",
    "        \n",
    "    return filtered "
   ]
  },
  {
   "cell_type": "markdown",
   "metadata": {},
   "source": [
    "### For each file, we export the filtered data to a new json file. "
   ]
  },
  {
   "cell_type": "code",
   "execution_count": 14,
   "metadata": {},
   "outputs": [
    {
     "name": "stdout",
     "output_type": "stream",
     "text": [
      "drug-label-0010-of-0010.json 7046\n",
      "{'disclaimer': 'Do not rely on openFDA to make decisions regarding medical care. While we make every effort to ensure that data is accurate, you should assume all results are unvalidated. We may limit or otherwise restrict your access to the API in line with our Terms of Service.', 'terms': 'https://open.fda.gov/terms/', 'license': 'https://open.fda.gov/license/', 'last_updated': '2021-05-27', 'results': {'skip': 180000, 'limit': 7046, 'total': 187046}} \n",
      "\n",
      "total: 2760\n"
     ]
    }
   ],
   "source": [
    "n = '10' # set file number \n",
    "\n",
    "filename = 'drug-label-00' + n + '-of-0010.json'\n",
    "\n",
    "with open(filename, 'r') as f: \n",
    "    file = json.load(f)\n",
    "\n",
    "    print(filename, len(file['results']))\n",
    "    print(file['meta'], '\\n')  \n",
    "\n",
    "    data = file['results']\n",
    "\n",
    "    filtered = filtering(data) # filtering \n",
    "    print('total:', len(filtered))\n",
    "    \n",
    "    out_name = 'fda-otc-' + n \n",
    "    with open(out_name + '.json', \"w\") as outfile: \n",
    "        json.dump(filtered, outfile, indent=4)"
   ]
  },
  {
   "cell_type": "markdown",
   "metadata": {},
   "source": [
    "### Iteration history"
   ]
  },
  {
   "cell_type": "markdown",
   "metadata": {},
   "source": [
    "drug-label-0001-of-0010.json 20000\n",
    "{'disclaimer': 'Do not rely on openFDA to make decisions regarding medical care. While we make every effort to ensure that data is accurate, you should assume all results are unvalidated. We may limit or otherwise restrict your access to the API in line with our Terms of Service.', 'terms': 'https://open.fda.gov/terms/', 'license': 'https://open.fda.gov/license/', 'last_updated': '2021-05-27', 'results': {'skip': 0, 'limit': 20000, 'total': 187046}} \n",
    "\n",
    "total: 6959\n",
    "\n",
    "\n",
    "drug-label-0002-of-0010.json 20000\n",
    "{'disclaimer': 'Do not rely on openFDA to make decisions regarding medical care. While we make every effort to ensure that data is accurate, you should assume all results are unvalidated. We may limit or otherwise restrict your access to the API in line with our Terms of Service.', 'terms': 'https://open.fda.gov/terms/', 'license': 'https://open.fda.gov/license/', 'last_updated': '2021-05-27', 'results': {'skip': 20000, 'limit': 20000, 'total': 187046}} \n",
    "\n",
    "total: 6885\n",
    "\n",
    "drug-label-0003-of-0010.json 20000\n",
    "{'disclaimer': 'Do not rely on openFDA to make decisions regarding medical care. While we make every effort to ensure that data is accurate, you should assume all results are unvalidated. We may limit or otherwise restrict your access to the API in line with our Terms of Service.', 'terms': 'https://open.fda.gov/terms/', 'license': 'https://open.fda.gov/license/', 'last_updated': '2021-05-27', 'results': {'skip': 40000, 'limit': 20000, 'total': 187046}} \n",
    "\n",
    "total: 6890\n",
    "\n",
    "drug-label-0004-of-0010.json 20000\n",
    "{'disclaimer': 'Do not rely on openFDA to make decisions regarding medical care. While we make every effort to ensure that data is accurate, you should assume all results are unvalidated. We may limit or otherwise restrict your access to the API in line with our Terms of Service.', 'terms': 'https://open.fda.gov/terms/', 'license': 'https://open.fda.gov/license/', 'last_updated': '2021-05-27', 'results': {'skip': 60000, 'limit': 20000, 'total': 187046}} \n",
    "\n",
    "total: 7054\n",
    "\n",
    "drug-label-0005-of-0010.json 20000\n",
    "{'disclaimer': 'Do not rely on openFDA to make decisions regarding medical care. While we make every effort to ensure that data is accurate, you should assume all results are unvalidated. We may limit or otherwise restrict your access to the API in line with our Terms of Service.', 'terms': 'https://open.fda.gov/terms/', 'license': 'https://open.fda.gov/license/', 'last_updated': '2021-05-27', 'results': {'skip': 80000, 'limit': 20000, 'total': 187046}} \n",
    "\n",
    "total: 7203\n",
    "\n",
    "drug-label-0006-of-0010.json 20000\n",
    "{'disclaimer': 'Do not rely on openFDA to make decisions regarding medical care. While we make every effort to ensure that data is accurate, you should assume all results are unvalidated. We may limit or otherwise restrict your access to the API in line with our Terms of Service.', 'terms': 'https://open.fda.gov/terms/', 'license': 'https://open.fda.gov/license/', 'last_updated': '2021-05-27', 'results': {'skip': 100000, 'limit': 20000, 'total': 187046}} \n",
    "\n",
    "total: 6886\n",
    "\n",
    "drug-label-0007-of-0010.json 20000\n",
    "{'disclaimer': 'Do not rely on openFDA to make decisions regarding medical care. While we make every effort to ensure that data is accurate, you should assume all results are unvalidated. We may limit or otherwise restrict your access to the API in line with our Terms of Service.', 'terms': 'https://open.fda.gov/terms/', 'license': 'https://open.fda.gov/license/', 'last_updated': '2021-05-27', 'results': {'skip': 120000, 'limit': 20000, 'total': 187046}} \n",
    "\n",
    "total: 6921\n",
    "\n",
    "drug-label-0008-of-0010.json 20000\n",
    "{'disclaimer': 'Do not rely on openFDA to make decisions regarding medical care. While we make every effort to ensure that data is accurate, you should assume all results are unvalidated. We may limit or otherwise restrict your access to the API in line with our Terms of Service.', 'terms': 'https://open.fda.gov/terms/', 'license': 'https://open.fda.gov/license/', 'last_updated': '2021-05-27', 'results': {'skip': 140000, 'limit': 20000, 'total': 187046}} \n",
    "\n",
    "total: 6956\n",
    "\n",
    "drug-label-0009-of-0010.json 20000\n",
    "{'disclaimer': 'Do not rely on openFDA to make decisions regarding medical care. While we make every effort to ensure that data is accurate, you should assume all results are unvalidated. We may limit or otherwise restrict your access to the API in line with our Terms of Service.', 'terms': 'https://open.fda.gov/terms/', 'license': 'https://open.fda.gov/license/', 'last_updated': '2021-05-27', 'results': {'skip': 160000, 'limit': 20000, 'total': 187046}} \n",
    "\n",
    "total: 7156\n",
    "\n",
    "drug-label-0010-of-0010.json 7046\n",
    "{'disclaimer': 'Do not rely on openFDA to make decisions regarding medical care. While we make every effort to ensure that data is accurate, you should assume all results are unvalidated. We may limit or otherwise restrict your access to the API in line with our Terms of Service.', 'terms': 'https://open.fda.gov/terms/', 'license': 'https://open.fda.gov/license/', 'last_updated': '2021-05-27', 'results': {'skip': 180000, 'limit': 7046, 'total': 187046}} \n",
    "\n",
    "total: 2760"
   ]
  },
  {
   "cell_type": "markdown",
   "metadata": {},
   "source": [
    "## After that, we combine those new 10 json file into one (big) json file. "
   ]
  },
  {
   "cell_type": "markdown",
   "metadata": {},
   "source": [
    "#### Iterate and combine"
   ]
  },
  {
   "cell_type": "code",
   "execution_count": null,
   "metadata": {},
   "outputs": [],
   "source": [
    "nums = ['0'+str(i) if i<10 else ''+str(i) for i in range(1, n+1)]\n",
    "fda_otc = {} # combine \n",
    "\n",
    "count = 0\n",
    "for num in nums: # loop \n",
    "    filename = 'fda-otc-' + num + '.json'\n",
    "    print(filename)\n",
    "    with open(filename, 'r') as f:\n",
    "        temp = json.load(f)\n",
    "        for key in temp.keys():  \n",
    "            count +=1\n",
    "            fda_otc[count] = temp[key] # combine\n",
    "            print(len(fda_otc))"
   ]
  },
  {
   "cell_type": "markdown",
   "metadata": {},
   "source": [
    "#### Total of Human OTC Drug Label in openFDA"
   ]
  },
  {
   "cell_type": "code",
   "execution_count": 34,
   "metadata": {
    "scrolled": true
   },
   "outputs": [
    {
     "data": {
      "text/plain": [
       "65670"
      ]
     },
     "execution_count": 34,
     "metadata": {},
     "output_type": "execute_result"
    }
   ],
   "source": [
    "len(fda_otc)"
   ]
  },
  {
   "cell_type": "markdown",
   "metadata": {},
   "source": [
    "#### Export it to a json file."
   ]
  },
  {
   "cell_type": "code",
   "execution_count": 35,
   "metadata": {},
   "outputs": [],
   "source": [
    "with open('fda-otc.json','w') as outfile: \n",
    "    json.dump(fda_otc, outfile, indent=4)"
   ]
  }
 ],
 "metadata": {
  "kernelspec": {
   "display_name": "Python 3",
   "language": "python",
   "name": "python3"
  },
  "language_info": {
   "codemirror_mode": {
    "name": "ipython",
    "version": 3
   },
   "file_extension": ".py",
   "mimetype": "text/x-python",
   "name": "python",
   "nbconvert_exporter": "python",
   "pygments_lexer": "ipython3",
   "version": "3.8.3"
  }
 },
 "nbformat": 4,
 "nbformat_minor": 4
}
