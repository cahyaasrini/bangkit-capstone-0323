{
  "nbformat": 4,
  "nbformat_minor": 0,
  "metadata": {
    "colab": {
      "name": "B21-CAP0323_data-exploration.ipynb",
      "provenance": [],
      "collapsed_sections": [
        "GILYPVcJSDVU"
      ],
      "mount_file_id": "1KGFLNO7jnLL2_gEW5VqETCx3_zvvSEma",
      "authorship_tag": "ABX9TyP1zkkr4p2E61nXcO0GCNHy",
      "include_colab_link": true
    },
    "kernelspec": {
      "display_name": "Python 3",
      "name": "python3"
    },
    "language_info": {
      "name": "python"
    }
  },
  "cells": [
    {
      "cell_type": "markdown",
      "metadata": {
        "id": "view-in-github",
        "colab_type": "text"
      },
      "source": [
        "<a href=\"https://colab.research.google.com/github/cahyaasrini/bangkit-capstone-0323/blob/main/B21_CAP0323_data_exploration.ipynb\" target=\"_parent\"><img src=\"https://colab.research.google.com/assets/colab-badge.svg\" alt=\"Open In Colab\"/></a>"
      ]
    },
    {
      "cell_type": "markdown",
      "metadata": {
        "id": "c0XqlIdQjS5a"
      },
      "source": [
        "#   Data Exploration\n",
        "\n"
      ]
    },
    {
      "cell_type": "markdown",
      "metadata": {
        "id": "IBMdraK2oxBZ"
      },
      "source": [
        "\n",
        "- **author: [Team B21-0323 @ Bangkit Academy 2021](https://github.com/cahyaasrini/bangkit-capstone-0323)**\n",
        "- **dataset: [openFDA](https://open.fda.gov/data/downloads/)**\n",
        "- **data dictionary: [openFDA Data Dictionary](https://open.fda.gov/data/datadictionary/#)**"
      ]
    },
    {
      "cell_type": "code",
      "metadata": {
        "id": "sIZTL12DQEAo"
      },
      "source": [
        "from google.colab import drive\n",
        "drive.mount('/content/gdrive')\n",
        "\n",
        "import json\n",
        "import pandas as pd\n",
        "\n",
        "f_label = open('/content/gdrive/MyDrive/capstone 323/Data/drug-label-0010-of-0010.json') \n",
        "f_event = open('/content/gdrive/MyDrive/capstone 323/Data/drug-event-0006-of-0019.json')\n",
        "dd = pd.read_excel('/content/gdrive/MyDrive/capstone 323/Data/Data Dictionary - Human Drug - Label & Event .xlsx')"
      ],
      "execution_count": null,
      "outputs": []
    },
    {
      "cell_type": "markdown",
      "metadata": {
        "id": "GILYPVcJSDVU"
      },
      "source": [
        "# Drug Label"
      ]
    },
    {
      "cell_type": "code",
      "metadata": {
        "id": "UDSYOIoCRoHp"
      },
      "source": [
        "data_label = json.load(f_label)"
      ],
      "execution_count": null,
      "outputs": []
    },
    {
      "cell_type": "code",
      "metadata": {
        "colab": {
          "base_uri": "https://localhost:8080/"
        },
        "id": "69R7tsqaqLYz",
        "outputId": "e73e2649-e058-4fe7-cb5c-3acdbbb20f3b"
      },
      "source": [
        "data_label.keys()"
      ],
      "execution_count": null,
      "outputs": [
        {
          "output_type": "execute_result",
          "data": {
            "text/plain": [
              "dict_keys(['meta', 'results'])"
            ]
          },
          "metadata": {
            "tags": []
          },
          "execution_count": 6
        }
      ]
    },
    {
      "cell_type": "code",
      "metadata": {
        "colab": {
          "base_uri": "https://localhost:8080/"
        },
        "id": "0Ch1I_UGqV9W",
        "outputId": "790ecb58-4f82-45a5-d2e9-3cece3b71d78"
      },
      "source": [
        "data_label['meta']"
      ],
      "execution_count": null,
      "outputs": [
        {
          "output_type": "execute_result",
          "data": {
            "text/plain": [
              "{'disclaimer': 'Do not rely on openFDA to make decisions regarding medical care. While we make every effort to ensure that data is accurate, you should assume all results are unvalidated. We may limit or otherwise restrict your access to the API in line with our Terms of Service.',\n",
              " 'last_updated': '2021-04-28',\n",
              " 'license': 'https://open.fda.gov/license/',\n",
              " 'results': {'limit': 5773, 'skip': 180000, 'total': 185773},\n",
              " 'terms': 'https://open.fda.gov/terms/'}"
            ]
          },
          "metadata": {
            "tags": []
          },
          "execution_count": 9
        }
      ]
    },
    {
      "cell_type": "code",
      "metadata": {
        "colab": {
          "base_uri": "https://localhost:8080/"
        },
        "id": "Ci1EzZAkAQ_n",
        "outputId": "82a18367-770b-4ee7-ffb7-d1349a397aff"
      },
      "source": [
        "type(data_label['results'])"
      ],
      "execution_count": null,
      "outputs": [
        {
          "output_type": "execute_result",
          "data": {
            "text/plain": [
              "list"
            ]
          },
          "metadata": {
            "tags": []
          },
          "execution_count": 10
        }
      ]
    },
    {
      "cell_type": "code",
      "metadata": {
        "colab": {
          "base_uri": "https://localhost:8080/"
        },
        "id": "c0oZ3TTAAb5K",
        "outputId": "1a1f86b6-6a4c-4055-e06f-5a346a85f750"
      },
      "source": [
        "len(data_label['results'])"
      ],
      "execution_count": null,
      "outputs": [
        {
          "output_type": "execute_result",
          "data": {
            "text/plain": [
              "5773"
            ]
          },
          "metadata": {
            "tags": []
          },
          "execution_count": 12
        }
      ]
    },
    {
      "cell_type": "code",
      "metadata": {
        "colab": {
          "base_uri": "https://localhost:8080/"
        },
        "id": "NDVjFSM1qaxm",
        "outputId": "318b243e-de50-469e-d34c-3826a7f74994"
      },
      "source": [
        "data_label['results'][0]"
      ],
      "execution_count": null,
      "outputs": [
        {
          "output_type": "execute_result",
          "data": {
            "text/plain": [
              "{'active_ingredient': ['Active ingredients Sodium Monofluorophosphate 0.8% (1000 PPM Fluoride Ion)'],\n",
              " 'do_not_use': ['Do not use if you have known sensitivities to any one of the ingredients.'],\n",
              " 'dosage_and_administration': ['Directions: Adults and children 6 years of age and older brush teeth thoroughly. Preferably after each meal or at least twice a day or as directed by a dentist or a physician. Children under 6 years ask a dentist or physician'],\n",
              " 'effective_time': '20190822',\n",
              " 'id': '90b47c91-2a77-833c-e053-2a95a90acb20',\n",
              " 'inactive_ingredient': ['Inactive ingredients: Water, Sorbitol, Calcium Carbonate, Silica, Cellulose Gum, Sodium Lauryl Sulfate, Flavour, Sodium Bicarbonate,Sodium Saccharin, Sodium Benzoate, Benzoic Acid, Zinc Citrate, Limonene.'],\n",
              " 'indications_and_usage': ['Uses: Aids in the prevention of cavities,gingivitis, whitening and plaque'],\n",
              " 'keep_out_of_reach_of_children': ['keep out of reach of children under 6 years of age If more than used for brushing is accidentally swallowed, get medical help or contact a poison control center immediately.'],\n",
              " 'openfda': {'application_number': ['part355'],\n",
              "  'brand_name': ['Orbitol'],\n",
              "  'generic_name': ['SODIUM MONOFLUOROPHOSPHATE'],\n",
              "  'is_original_packager': [True],\n",
              "  'manufacturer_name': ['COSMOPHARM LTD.'],\n",
              "  'package_ndc': ['69939-310-02'],\n",
              "  'product_ndc': ['69939-310'],\n",
              "  'product_type': ['HUMAN OTC DRUG'],\n",
              "  'route': ['DENTAL'],\n",
              "  'rxcui': ['1048117'],\n",
              "  'spl_id': ['90b47c91-2a77-833c-e053-2a95a90acb20'],\n",
              "  'spl_set_id': ['f266abda-5cb0-4b97-9479-16a51dfc3146'],\n",
              "  'substance_name': ['SODIUM MONOFLUOROPHOSPHATE'],\n",
              "  'unii': ['C810JCZ56Q']},\n",
              " 'other_safety_information': ['This product should be used only for the purpose it was intended and according to its instructions. Do not ingest.'],\n",
              " 'package_label_principal_display_panel': ['Principal Display Panel ORBITOL Toothpaste with fluoride and baking soda FLUORIDE and BAKING SODA For whitening the teeth and preventing cavities nt wt 3.5 fl oz (145 gr) NDC 69939-310-02 Label'],\n",
              " 'purpose': ['Purpose Cavity Prevention'],\n",
              " 'questions': ['Questions? Call 718-369-4600'],\n",
              " 'set_id': 'f266abda-5cb0-4b97-9479-16a51dfc3146',\n",
              " 'spl_product_data_elements': ['Orbitol SODIUM MONOFLUOROPHOSPHATE WATER SILICON DIOXIDE SACCHARIN SODIUM SODIUM BENZOATE LIMONENE, (+)- SODIUM LAURYL SULFATE BENZOIC ACID SORBITOL CALCIUM CARBONATE SODIUM BICARBONATE ZINC CITRATE CARBOXYMETHYLCELLULOSE SODIUM, UNSPECIFIED FORM SODIUM MONOFLUOROPHOSPHATE FLUORIDE ION'],\n",
              " 'spl_unclassified_section': ['Other information:'],\n",
              " 'version': '4',\n",
              " 'warnings': ['Warnings: keep out of reach of children under 6 years of age If more than used for brushing is accidentally swallowed, get medical help or contact a poison control center immediately. Do not use if you have known sensitivities to any one of the ingredients. When using this product avoid contact with eyes. If contact occurs, rinse eyes thoroughly with water. This product should be used only for the purpose it was intended and according to its instructions. Do not ingest.'],\n",
              " 'when_using': ['When using this product avoid contact with eyes. If contact occurs, rinse eyes thoroughly with water.']}"
            ]
          },
          "metadata": {
            "tags": []
          },
          "execution_count": 11
        }
      ]
    },
    {
      "cell_type": "code",
      "metadata": {
        "colab": {
          "base_uri": "https://localhost:8080/"
        },
        "id": "n7VY_4ebhcG1",
        "outputId": "515db627-50a9-44a6-92c1-e1f1f8c4799b"
      },
      "source": [
        "data_label['results'][0].keys()"
      ],
      "execution_count": null,
      "outputs": [
        {
          "output_type": "execute_result",
          "data": {
            "text/plain": [
              "dict_keys(['effective_time', 'inactive_ingredient', 'purpose', 'keep_out_of_reach_of_children', 'warnings', 'when_using', 'questions', 'spl_product_data_elements', 'other_safety_information', 'openfda', 'version', 'dosage_and_administration', 'spl_unclassified_section', 'do_not_use', 'package_label_principal_display_panel', 'indications_and_usage', 'set_id', 'id', 'active_ingredient'])"
            ]
          },
          "metadata": {
            "tags": []
          },
          "execution_count": 13
        }
      ]
    },
    {
      "cell_type": "code",
      "metadata": {
        "colab": {
          "base_uri": "https://localhost:8080/"
        },
        "id": "gjfBbHDoa4e0",
        "outputId": "e31cacb0-8a71-4c57-d327-980d16db1365"
      },
      "source": [
        "for i, key in enumerate(data_label['results'][0].keys()):\n",
        "  print(i+1, key)\n",
        "  desc = dd.loc[dd['field_name'] == key]['definition'].values\n",
        "  if desc:\n",
        "    print('   >> description:', desc[0])\n",
        "  print()"
      ],
      "execution_count": null,
      "outputs": [
        {
          "output_type": "stream",
          "text": [
            "1 effective_time\n",
            "   >> description: Date reference to the particular version of the labeling document.\n",
            "\n",
            "2 inactive_ingredient\n",
            "   >> description: A list of inactive, non-medicinal ingredients in a drug product.\n",
            "\n",
            "3 purpose\n",
            "   >> description: Information about the drug product’s indications for use.\n",
            "\n",
            "4 keep_out_of_reach_of_children\n",
            "   >> description: Information pertaining to whether the product should be kept out of the reach of children, and instructions about what to do in the case of accidental contact or ingestion, if appropriate.\n",
            "\n",
            "5 warnings\n",
            "   >> description: Information about serious adverse reactions and potential safety hazards, including limitations in use imposed by those hazards and steps that should be taken if they occur.\n",
            "\n",
            "6 when_using\n",
            "   >> description: Information about side effects that people may experience, and the substances (e.g. alcohol) or activities (e.g. operating machinery, driving a car) to avoid while using the drug product.\n",
            "\n",
            "7 questions\n",
            "   >> description: A telephone number of a source to answer questions about a drug product. Sometimes available days and times are also noted.\n",
            "\n",
            "8 spl_product_data_elements\n",
            "   >> description: Usually a list of ingredients in a drug product.\n",
            "\n",
            "9 other_safety_information\n",
            "   >> description: Information about safe use and handling of the product that may not have been specified in another field.\n",
            "\n",
            "10 openfda\n",
            "\n",
            "11 version\n",
            "   >> description: A sequentially increasing number identifying the particular version of a document, starting with `1`.\n",
            "\n",
            "12 dosage_and_administration\n",
            "   >> description: Information about the drug product’s dosage and administration recommendations, including starting dose, dose range, titration regimens, and any other clinically sigificant information that affects dosing recommendations.\n",
            "\n",
            "13 spl_unclassified_section\n",
            "   >> description: Information not classified as belonging to one of the other fields. Approximately 40% of labeling with `effective_time` between June 2009 and August 2014 have information in this field.\n",
            "\n",
            "14 do_not_use\n",
            "   >> description: Information about all contraindications for use. These contraindications are absolute and are intended for situations in which consumers should not use the product unless a prior diagnosis has been established by a doctor or for situations in which certain consumers should not use the product under any circumstances regardless of whether a doctor or health professional is consulted.\n",
            "\n",
            "15 package_label_principal_display_panel\n",
            "   >> description: The content of the principal display panel of the product package, usually including the product’s name, dosage forms, and other key information about the drug product.\n",
            "\n",
            "16 indications_and_usage\n",
            "   >> description: A statement of each of the drug product’s indications for use, such as for the treatment, prevention, mitigation, cure, or diagnosis of a disease or condition, or of a manifestation of a recognized disease or condition, or for the relief of symptoms associated with a recognized disease or condition. This field may also describe any relevant limitations of use.\n",
            "\n",
            "17 set_id\n",
            "   >> description: The Set ID, A globally unique identifier (GUID) for the labeling, stable across all versions or revisions.\n",
            "\n",
            "18 id\n",
            "   >> description: The document ID, A globally unique identifier (GUID) for the particular revision of a labeling document.\n",
            "\n",
            "19 active_ingredient\n",
            "   >> description: A list of the active, medicinal ingredients in the drug product.\n",
            "\n"
          ],
          "name": "stdout"
        },
        {
          "output_type": "stream",
          "text": [
            "/usr/local/lib/python3.7/dist-packages/ipykernel_launcher.py:4: DeprecationWarning: The truth value of an empty array is ambiguous. Returning False, but in future this will result in an error. Use `array.size > 0` to check that an array is not empty.\n",
            "  after removing the cwd from sys.path.\n"
          ],
          "name": "stderr"
        }
      ]
    },
    {
      "cell_type": "markdown",
      "metadata": {
        "id": "WborCvWLSF8m"
      },
      "source": [
        "# Drug Event"
      ]
    },
    {
      "cell_type": "code",
      "metadata": {
        "id": "UObe82aUQvZN"
      },
      "source": [
        "data_event = json.load(f_event)"
      ],
      "execution_count": null,
      "outputs": []
    },
    {
      "cell_type": "code",
      "metadata": {
        "colab": {
          "base_uri": "https://localhost:8080/"
        },
        "id": "87pMu-ZWhzaM",
        "outputId": "a5d89041-470c-4fef-e0c1-11e10856a193"
      },
      "source": [
        "data_event.keys()"
      ],
      "execution_count": null,
      "outputs": [
        {
          "output_type": "execute_result",
          "data": {
            "text/plain": [
              "dict_keys(['meta', 'results'])"
            ]
          },
          "metadata": {
            "tags": []
          },
          "execution_count": 20
        }
      ]
    },
    {
      "cell_type": "code",
      "metadata": {
        "colab": {
          "base_uri": "https://localhost:8080/"
        },
        "id": "0s8rmAPth2DZ",
        "outputId": "e82ba849-9946-4333-e6fd-175693f1e495"
      },
      "source": [
        "len(data_event['results'])"
      ],
      "execution_count": null,
      "outputs": [
        {
          "output_type": "execute_result",
          "data": {
            "text/plain": [
              "12000"
            ]
          },
          "metadata": {
            "tags": []
          },
          "execution_count": 21
        }
      ]
    },
    {
      "cell_type": "code",
      "metadata": {
        "colab": {
          "base_uri": "https://localhost:8080/"
        },
        "id": "c4g6KNl-h5Nb",
        "outputId": "72060415-17d3-4ed5-97d4-b5b29d508445"
      },
      "source": [
        "data_event['results'][0]"
      ],
      "execution_count": null,
      "outputs": [
        {
          "output_type": "execute_result",
          "data": {
            "text/plain": [
              "{'companynumb': 'US-TEVA-411204USA',\n",
              " 'duplicate': '1',\n",
              " 'fulfillexpeditecriteria': '2',\n",
              " 'occurcountry': 'US',\n",
              " 'patient': {'drug': [{'actiondrug': '5',\n",
              "    'drugadministrationroute': '015',\n",
              "    'drugauthorizationnumb': '018680',\n",
              "    'drugbatchnumb': 'UNKNOWN',\n",
              "    'drugcharacterization': '1',\n",
              "    'drugindication': 'CONTRACEPTION',\n",
              "    'drugstartdate': '2008',\n",
              "    'drugstartdateformat': '602',\n",
              "    'medicinalproduct': 'PARAGARD 380A'},\n",
              "   {'drugcharacterization': '2',\n",
              "    'drugdosageform': 'TABLET',\n",
              "    'drugindication': 'CONTRACEPTION',\n",
              "    'drugstartdate': '20130430',\n",
              "    'drugstartdateformat': '102',\n",
              "    'medicinalproduct': 'MICRONOR'}],\n",
              "  'patientonsetage': '24',\n",
              "  'patientonsetageunit': '801',\n",
              "  'patientsex': '2',\n",
              "  'patientweight': '99.88',\n",
              "  'reaction': [{'reactionmeddrapt': 'Device expulsion',\n",
              "    'reactionmeddraversionpt': '17.0',\n",
              "    'reactionoutcome': '3'},\n",
              "   {'reactionmeddrapt': 'Smear cervix abnormal',\n",
              "    'reactionmeddraversionpt': '17.0',\n",
              "    'reactionoutcome': '3'}]},\n",
              " 'primarysource': {'qualification': '3', 'reportercountry': 'US'},\n",
              " 'primarysourcecountry': 'US',\n",
              " 'receiptdate': '20131216',\n",
              " 'receiptdateformat': '102',\n",
              " 'receivedate': '20131216',\n",
              " 'receivedateformat': '102',\n",
              " 'receiver': {'receiverorganization': 'FDA', 'receivertype': '6'},\n",
              " 'reportduplicate': {'duplicatenumb': 'US-TEVA-411204USA',\n",
              "  'duplicatesource': 'TEVA'},\n",
              " 'reporttype': '1',\n",
              " 'safetyreportid': '9758086',\n",
              " 'safetyreportversion': '1',\n",
              " 'sender': {'senderorganization': 'FDA-Public Use', 'sendertype': '2'},\n",
              " 'serious': '1',\n",
              " 'seriousnesshospitalization': '1',\n",
              " 'transmissiondate': '20140711',\n",
              " 'transmissiondateformat': '102'}"
            ]
          },
          "metadata": {
            "tags": []
          },
          "execution_count": 22
        }
      ]
    },
    {
      "cell_type": "code",
      "metadata": {
        "colab": {
          "base_uri": "https://localhost:8080/"
        },
        "id": "nLTOr6DjQeAv",
        "outputId": "77bc2b4f-2835-46c0-a1a2-9740c06a2c08"
      },
      "source": [
        "for i, key in enumerate(data_event['results'][0]):\n",
        "  print(i+1, key)\n",
        "  desc = dd.loc[dd['field_name'] == key]['definition'].values\n",
        "  if desc:\n",
        "    print('   >> description:', desc[0])\n",
        "  print()"
      ],
      "execution_count": null,
      "outputs": [
        {
          "output_type": "stream",
          "text": [
            "1 reporttype\n",
            "   >> description: Code indicating the circumstances under which the report was generated.\n",
            "\n",
            "2 safetyreportversion\n",
            "   >> description: The version number of the `safetyreportid`. Multiple versions of the same report may exist, it is generally best to only count the latest report and disregard others. openFDA will only return the latest version of a report.\n",
            "\n",
            "3 receivedateformat\n",
            "   >> description: Encoding format of the `transmissiondate` field. Always set to 102 (YYYYMMDD).\n",
            "\n",
            "4 primarysource\n",
            "\n",
            "5 transmissiondateformat\n",
            "   >> description: Encoding format of the `transmissiondate` field. Always set to 102 (YYYYMMDD).\n",
            "\n",
            "6 fulfillexpeditecriteria\n",
            "   >> description: Identifies expedited reports (those that were processed within 15 days).\n",
            "\n",
            "7 safetyreportid\n",
            "   >> description: The 8-digit Safety Report ID number, also known as the case report number or case ID. The first 7 digits (before the hyphen) identify an individual report and the last digit (after the hyphen) is a checksum. This field can be used to identify or find a specific adverse event report.\n",
            "\n",
            "8 patient\n",
            "\n",
            "9 serious\n",
            "   >> description: Seriousness of the adverse event.\n",
            "\n",
            "10 reportduplicate\n",
            "\n",
            "11 receiptdate\n",
            "   >> description: Date that the _most recent_ information in the report was received by FDA.\n",
            "\n",
            "12 receiptdateformat\n",
            "   >> description: Encoding format of the `transmissiondate` field. Always set to 102 (YYYYMMDD).\n",
            "\n",
            "13 receiver\n",
            "\n",
            "14 companynumb\n",
            "   >> description: Identifier for the company providing the report. This is self-assigned.\n",
            "\n",
            "15 occurcountry\n",
            "   >> description: The name of the country where the event occurred.\n",
            "\n",
            "16 duplicate\n",
            "   >> description: This value is `1` if earlier versions of this report were submitted to FDA. openFDA only shows the most recent version.\n",
            "\n",
            "17 sender\n",
            "\n",
            "18 receivedate\n",
            "   >> description: Date that the report was _first_ received by FDA. If this report has multiple versions, this will be the date the first version was received by FDA.\n",
            "\n",
            "19 seriousnesshospitalization\n",
            "   >> description: This value is `1` if the adverse event resulted in a hospitalization, and absent otherwise.\n",
            "\n",
            "20 transmissiondate\n",
            "   >> description: Date that the record was created. This may be earlier than the date the record was received by the FDA.\n",
            "\n",
            "21 primarysourcecountry\n",
            "   >> description: Country of the reporter of the event.\n",
            "\n"
          ],
          "name": "stdout"
        },
        {
          "output_type": "stream",
          "text": [
            "/usr/local/lib/python3.7/dist-packages/ipykernel_launcher.py:4: DeprecationWarning: The truth value of an empty array is ambiguous. Returning False, but in future this will result in an error. Use `array.size > 0` to check that an array is not empty.\n",
            "  after removing the cwd from sys.path.\n"
          ],
          "name": "stderr"
        }
      ]
    },
    {
      "cell_type": "code",
      "metadata": {
        "colab": {
          "base_uri": "https://localhost:8080/"
        },
        "id": "Uk-SvWKMTEfz",
        "outputId": "823c5a70-1971-43d4-b84f-4119f7e2c9ec"
      },
      "source": [
        "data_event['results'][0]['patient']"
      ],
      "execution_count": null,
      "outputs": [
        {
          "output_type": "execute_result",
          "data": {
            "text/plain": [
              "{'drug': [{'actiondrug': '5',\n",
              "   'drugadministrationroute': '015',\n",
              "   'drugauthorizationnumb': '018680',\n",
              "   'drugbatchnumb': 'UNKNOWN',\n",
              "   'drugcharacterization': '1',\n",
              "   'drugindication': 'CONTRACEPTION',\n",
              "   'drugstartdate': '2008',\n",
              "   'drugstartdateformat': '602',\n",
              "   'medicinalproduct': 'PARAGARD 380A'},\n",
              "  {'drugcharacterization': '2',\n",
              "   'drugdosageform': 'TABLET',\n",
              "   'drugindication': 'CONTRACEPTION',\n",
              "   'drugstartdate': '20130430',\n",
              "   'drugstartdateformat': '102',\n",
              "   'medicinalproduct': 'MICRONOR'}],\n",
              " 'patientonsetage': '24',\n",
              " 'patientonsetageunit': '801',\n",
              " 'patientsex': '2',\n",
              " 'patientweight': '99.88',\n",
              " 'reaction': [{'reactionmeddrapt': 'Device expulsion',\n",
              "   'reactionmeddraversionpt': '17.0',\n",
              "   'reactionoutcome': '3'},\n",
              "  {'reactionmeddrapt': 'Smear cervix abnormal',\n",
              "   'reactionmeddraversionpt': '17.0',\n",
              "   'reactionoutcome': '3'}]}"
            ]
          },
          "metadata": {
            "tags": []
          },
          "execution_count": 25
        }
      ]
    }
  ]
}